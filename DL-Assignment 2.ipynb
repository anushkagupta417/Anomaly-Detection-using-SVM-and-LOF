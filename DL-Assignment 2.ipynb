{
 "cells": [
  {
   "cell_type": "code",
   "execution_count": 13,
   "id": "6008a138",
   "metadata": {},
   "outputs": [],
   "source": [
    "import pandas as pd\n",
    "import numpy as np"
   ]
  },
  {
   "cell_type": "code",
   "execution_count": 14,
   "id": "49aca5d7",
   "metadata": {},
   "outputs": [],
   "source": [
    "df = pd.read_csv('/Users/anushkagupta/Desktop/Academics/7th sem/DL Project/Dataset 8 (2).csv')"
   ]
  },
  {
   "cell_type": "code",
   "execution_count": 15,
   "id": "af7c5086",
   "metadata": {},
   "outputs": [],
   "source": [
    "from sklearn.preprocessing import MinMaxScaler\n",
    "\n",
    "columns_to_normalize = [\"P1\",\"P2\",\"P3\",\"P4\",\"P5\",\"P6\"]\n",
    "\n",
    "scaler = MinMaxScaler()\n",
    "\n",
    "df[columns_to_normalize] = scaler.fit_transform(df[columns_to_normalize])"
   ]
  },
  {
   "cell_type": "code",
   "execution_count": 16,
   "id": "f6dea07e",
   "metadata": {},
   "outputs": [
    {
     "data": {
      "text/html": [
       "<div>\n",
       "<style scoped>\n",
       "    .dataframe tbody tr th:only-of-type {\n",
       "        vertical-align: middle;\n",
       "    }\n",
       "\n",
       "    .dataframe tbody tr th {\n",
       "        vertical-align: top;\n",
       "    }\n",
       "\n",
       "    .dataframe thead th {\n",
       "        text-align: right;\n",
       "    }\n",
       "</style>\n",
       "<table border=\"1\" class=\"dataframe\">\n",
       "  <thead>\n",
       "    <tr style=\"text-align: right;\">\n",
       "      <th></th>\n",
       "      <th>Date\\t</th>\n",
       "      <th>Time</th>\n",
       "      <th>P1</th>\n",
       "      <th>P2</th>\n",
       "      <th>P3</th>\n",
       "      <th>P4</th>\n",
       "      <th>P5</th>\n",
       "      <th>P6</th>\n",
       "      <th>P7</th>\n",
       "      <th>P8</th>\n",
       "      <th>P9</th>\n",
       "    </tr>\n",
       "  </thead>\n",
       "  <tbody>\n",
       "    <tr>\n",
       "      <th>0</th>\n",
       "      <td>11-10-2011</td>\n",
       "      <td>00:05.3</td>\n",
       "      <td>0.47191</td>\n",
       "      <td>0.225</td>\n",
       "      <td>0.481937</td>\n",
       "      <td>0.517483</td>\n",
       "      <td>0.931034</td>\n",
       "      <td>0.95122</td>\n",
       "      <td>0</td>\n",
       "      <td>0</td>\n",
       "      <td>0</td>\n",
       "    </tr>\n",
       "    <tr>\n",
       "      <th>1</th>\n",
       "      <td>11-10-2011</td>\n",
       "      <td>00:06.3</td>\n",
       "      <td>0.47191</td>\n",
       "      <td>0.225</td>\n",
       "      <td>0.481937</td>\n",
       "      <td>0.517483</td>\n",
       "      <td>0.931034</td>\n",
       "      <td>0.95122</td>\n",
       "      <td>0</td>\n",
       "      <td>0</td>\n",
       "      <td>0</td>\n",
       "    </tr>\n",
       "    <tr>\n",
       "      <th>2</th>\n",
       "      <td>11-10-2011</td>\n",
       "      <td>00:06.8</td>\n",
       "      <td>0.47191</td>\n",
       "      <td>0.225</td>\n",
       "      <td>0.481937</td>\n",
       "      <td>0.517483</td>\n",
       "      <td>0.931034</td>\n",
       "      <td>0.95122</td>\n",
       "      <td>0</td>\n",
       "      <td>0</td>\n",
       "      <td>0</td>\n",
       "    </tr>\n",
       "    <tr>\n",
       "      <th>3</th>\n",
       "      <td>11-10-2011</td>\n",
       "      <td>00:08.3</td>\n",
       "      <td>0.47191</td>\n",
       "      <td>0.225</td>\n",
       "      <td>0.481937</td>\n",
       "      <td>0.517483</td>\n",
       "      <td>0.931034</td>\n",
       "      <td>0.95122</td>\n",
       "      <td>0</td>\n",
       "      <td>0</td>\n",
       "      <td>0</td>\n",
       "    </tr>\n",
       "    <tr>\n",
       "      <th>4</th>\n",
       "      <td>11-10-2011</td>\n",
       "      <td>00:09.9</td>\n",
       "      <td>0.47191</td>\n",
       "      <td>0.225</td>\n",
       "      <td>0.481937</td>\n",
       "      <td>0.517483</td>\n",
       "      <td>0.931034</td>\n",
       "      <td>0.95122</td>\n",
       "      <td>0</td>\n",
       "      <td>0</td>\n",
       "      <td>0</td>\n",
       "    </tr>\n",
       "  </tbody>\n",
       "</table>\n",
       "</div>"
      ],
      "text/plain": [
       "       Date\\t     Time       P1     P2        P3        P4        P5       P6  \\\n",
       "0  11-10-2011  00:05.3  0.47191  0.225  0.481937  0.517483  0.931034  0.95122   \n",
       "1  11-10-2011  00:06.3  0.47191  0.225  0.481937  0.517483  0.931034  0.95122   \n",
       "2  11-10-2011  00:06.8  0.47191  0.225  0.481937  0.517483  0.931034  0.95122   \n",
       "3  11-10-2011  00:08.3  0.47191  0.225  0.481937  0.517483  0.931034  0.95122   \n",
       "4  11-10-2011  00:09.9  0.47191  0.225  0.481937  0.517483  0.931034  0.95122   \n",
       "\n",
       "   P7  P8  P9  \n",
       "0   0   0   0  \n",
       "1   0   0   0  \n",
       "2   0   0   0  \n",
       "3   0   0   0  \n",
       "4   0   0   0  "
      ]
     },
     "execution_count": 16,
     "metadata": {},
     "output_type": "execute_result"
    }
   ],
   "source": [
    "df.head()"
   ]
  },
  {
   "cell_type": "code",
   "execution_count": 17,
   "id": "9f855f65",
   "metadata": {},
   "outputs": [],
   "source": [
    "df['datetime'] = pd.to_datetime(df['Date\\t'] + ' ' + df['Time'], format='%d-%m-%Y %M:%S.%f')\n",
    "df = df.drop(['Date\\t', 'Time'], axis=1)"
   ]
  },
  {
   "cell_type": "code",
   "execution_count": 18,
   "id": "2d041c23",
   "metadata": {
    "scrolled": true
   },
   "outputs": [
    {
     "data": {
      "text/html": [
       "<div>\n",
       "<style scoped>\n",
       "    .dataframe tbody tr th:only-of-type {\n",
       "        vertical-align: middle;\n",
       "    }\n",
       "\n",
       "    .dataframe tbody tr th {\n",
       "        vertical-align: top;\n",
       "    }\n",
       "\n",
       "    .dataframe thead th {\n",
       "        text-align: right;\n",
       "    }\n",
       "</style>\n",
       "<table border=\"1\" class=\"dataframe\">\n",
       "  <thead>\n",
       "    <tr style=\"text-align: right;\">\n",
       "      <th></th>\n",
       "      <th>Datetime</th>\n",
       "      <th>P1</th>\n",
       "      <th>P2</th>\n",
       "      <th>P3</th>\n",
       "      <th>P4</th>\n",
       "      <th>P5</th>\n",
       "      <th>P6</th>\n",
       "      <th>P7</th>\n",
       "      <th>P8</th>\n",
       "      <th>P9</th>\n",
       "    </tr>\n",
       "  </thead>\n",
       "  <tbody>\n",
       "    <tr>\n",
       "      <th>0</th>\n",
       "      <td>2011-10-11 00:00:05.300</td>\n",
       "      <td>0.47191</td>\n",
       "      <td>0.225</td>\n",
       "      <td>0.481937</td>\n",
       "      <td>0.517483</td>\n",
       "      <td>0.931034</td>\n",
       "      <td>0.95122</td>\n",
       "      <td>0</td>\n",
       "      <td>0</td>\n",
       "      <td>0</td>\n",
       "    </tr>\n",
       "    <tr>\n",
       "      <th>1</th>\n",
       "      <td>2011-10-11 00:00:06.300</td>\n",
       "      <td>0.47191</td>\n",
       "      <td>0.225</td>\n",
       "      <td>0.481937</td>\n",
       "      <td>0.517483</td>\n",
       "      <td>0.931034</td>\n",
       "      <td>0.95122</td>\n",
       "      <td>0</td>\n",
       "      <td>0</td>\n",
       "      <td>0</td>\n",
       "    </tr>\n",
       "    <tr>\n",
       "      <th>2</th>\n",
       "      <td>2011-10-11 00:00:06.800</td>\n",
       "      <td>0.47191</td>\n",
       "      <td>0.225</td>\n",
       "      <td>0.481937</td>\n",
       "      <td>0.517483</td>\n",
       "      <td>0.931034</td>\n",
       "      <td>0.95122</td>\n",
       "      <td>0</td>\n",
       "      <td>0</td>\n",
       "      <td>0</td>\n",
       "    </tr>\n",
       "    <tr>\n",
       "      <th>3</th>\n",
       "      <td>2011-10-11 00:00:08.300</td>\n",
       "      <td>0.47191</td>\n",
       "      <td>0.225</td>\n",
       "      <td>0.481937</td>\n",
       "      <td>0.517483</td>\n",
       "      <td>0.931034</td>\n",
       "      <td>0.95122</td>\n",
       "      <td>0</td>\n",
       "      <td>0</td>\n",
       "      <td>0</td>\n",
       "    </tr>\n",
       "    <tr>\n",
       "      <th>4</th>\n",
       "      <td>2011-10-11 00:00:09.900</td>\n",
       "      <td>0.47191</td>\n",
       "      <td>0.225</td>\n",
       "      <td>0.481937</td>\n",
       "      <td>0.517483</td>\n",
       "      <td>0.931034</td>\n",
       "      <td>0.95122</td>\n",
       "      <td>0</td>\n",
       "      <td>0</td>\n",
       "      <td>0</td>\n",
       "    </tr>\n",
       "  </tbody>\n",
       "</table>\n",
       "</div>"
      ],
      "text/plain": [
       "                 Datetime       P1     P2        P3        P4        P5  \\\n",
       "0 2011-10-11 00:00:05.300  0.47191  0.225  0.481937  0.517483  0.931034   \n",
       "1 2011-10-11 00:00:06.300  0.47191  0.225  0.481937  0.517483  0.931034   \n",
       "2 2011-10-11 00:00:06.800  0.47191  0.225  0.481937  0.517483  0.931034   \n",
       "3 2011-10-11 00:00:08.300  0.47191  0.225  0.481937  0.517483  0.931034   \n",
       "4 2011-10-11 00:00:09.900  0.47191  0.225  0.481937  0.517483  0.931034   \n",
       "\n",
       "        P6  P7  P8  P9  \n",
       "0  0.95122   0   0   0  \n",
       "1  0.95122   0   0   0  \n",
       "2  0.95122   0   0   0  \n",
       "3  0.95122   0   0   0  \n",
       "4  0.95122   0   0   0  "
      ]
     },
     "execution_count": 18,
     "metadata": {},
     "output_type": "execute_result"
    }
   ],
   "source": [
    "datetime_column = df['datetime']\n",
    "df = df.drop(columns=['datetime'])\n",
    "df.insert(0, 'Datetime', datetime_column)\n",
    "df.head()"
   ]
  },
  {
   "cell_type": "code",
   "execution_count": 19,
   "id": "f9f0ddc1",
   "metadata": {},
   "outputs": [],
   "source": [
    "from sklearn.svm import OneClassSVM\n",
    "from sklearn.neighbors import LocalOutlierFactor\n",
    "import matplotlib.pyplot as plt"
   ]
  },
  {
   "cell_type": "code",
   "execution_count": 20,
   "id": "8e6e703a",
   "metadata": {},
   "outputs": [],
   "source": [
    "features = df[['P1', 'P2', 'P3', 'P4', 'P5', 'P6', 'P7', 'P8', 'P9']]"
   ]
  },
  {
   "cell_type": "code",
   "execution_count": 46,
   "id": "64a6a74f",
   "metadata": {},
   "outputs": [],
   "source": [
    "# Anomaly detection using One-Class SVM\n",
    "svm_model = OneClassSVM(nu=0.0005)  # You can adjust the nu parameter based on your dataset\n",
    "svm_predictions = svm_model.fit_predict(features)"
   ]
  },
  {
   "cell_type": "code",
   "execution_count": 47,
   "id": "7f44f0d3",
   "metadata": {},
   "outputs": [],
   "source": [
    "# Anomaly detection using Local Outlier Factor (LOF)\n",
    "lof_model = LocalOutlierFactor(n_neighbors=20, contamination=0.0005)  # Adjust parameters accordingly\n",
    "lof_predictions = lof_model.fit_predict(features)\n"
   ]
  },
  {
   "cell_type": "code",
   "execution_count": 48,
   "id": "890c1d55",
   "metadata": {},
   "outputs": [],
   "source": [
    "# Combine the results from both models\n",
    "df['SVM_Anomaly'] = svm_predictions\n",
    "df['LOF_Anomaly'] = lof_predictions"
   ]
  },
  {
   "cell_type": "code",
   "execution_count": 49,
   "id": "a4a466ba",
   "metadata": {},
   "outputs": [
    {
     "name": "stdout",
     "output_type": "stream",
     "text": [
      "Anomaly Datetimes:\n",
      "4673     2011-10-11 00:47:51.400\n",
      "4674     2011-10-11 00:47:52.900\n",
      "4675     2011-10-11 00:47:54.500\n",
      "4676     2011-10-11 00:47:55.500\n",
      "4677     2011-10-11 00:47:56.000\n",
      "4678     2011-10-11 00:47:57.500\n",
      "4679     2011-10-11 00:47:59.100\n",
      "4680     2011-10-11 00:48:02.600\n",
      "4681     2011-10-11 00:48:07.800\n",
      "106859   2011-11-03 00:30:00.900\n",
      "106860   2011-11-03 00:30:05.000\n",
      "106861   2011-11-03 00:30:05.500\n",
      "106862   2011-11-03 00:30:12.200\n",
      "165239   2011-11-14 00:47:51.400\n",
      "165240   2011-11-14 00:47:52.900\n",
      "165241   2011-11-14 00:47:54.500\n",
      "165242   2011-11-14 00:47:55.500\n",
      "165243   2011-11-14 00:47:56.000\n",
      "165244   2011-11-14 00:47:57.500\n",
      "165245   2011-11-14 00:47:59.100\n",
      "165246   2011-11-14 00:48:02.600\n",
      "165247   2011-11-14 00:48:07.800\n",
      "Name: Datetime, dtype: datetime64[ns]\n"
     ]
    }
   ],
   "source": [
    "# Filter out the rows where either SVM or LOF detects an anomaly\n",
    "anomaly_df = df[(df['SVM_Anomaly'] == -1) & (df['LOF_Anomaly'] == -1)]\n",
    "\n",
    "# Print or save the datetime of anomalies\n",
    "anomaly_datetimes = anomaly_df['Datetime']\n",
    "print(\"Anomaly Datetimes:\")\n",
    "print(anomaly_datetimes)\n"
   ]
  },
  {
   "cell_type": "code",
   "execution_count": 50,
   "id": "3965865b",
   "metadata": {},
   "outputs": [
    {
     "data": {
      "image/png": "[encoded data removed]",
      "text/plain": [
       "<Figure size 1000x600 with 1 Axes>"
      ]
     },
     "metadata": {},
     "output_type": "display_data"
    }
   ],
   "source": [
    "# Plot the anomalies\n",
    "plt.figure(figsize=(10, 6))\n",
    "plt.scatter(df['Datetime'], df['P1'], c=df['SVM_Anomaly'], cmap='viridis', label='SVM Anomaly')\n",
    "plt.scatter(df['Datetime'], df['P1'], c=df['LOF_Anomaly'], cmap='plasma', label='LOF Anomaly', alpha=0.5)\n",
    "plt.xlabel('DateTime')\n",
    "plt.ylabel('P1 Value')\n",
    "plt.title('Anomaly Detection Results')\n",
    "plt.legend()\n",
    "plt.show()"
   ]
  },
  {
   "cell_type": "code",
   "execution_count": null,
   "id": "9ea917f9",
   "metadata": {},
   "outputs": [],
   "source": []
  }
 ],
 "metadata": {
  "kernelspec": {
   "display_name": "Python 3 (ipykernel)",
   "language": "python",
   "name": "python3"
  },
  "language_info": {
   "codemirror_mode": {
    "name": "ipython",
    "version": 3
   },
   "file_extension": ".py",
   "mimetype": "text/x-python",
   "name": "python",
   "nbconvert_exporter": "python",
   "pygments_lexer": "ipython3",
   "version": "3.10.9"
  }
 },
 "nbformat": 4,
 "nbformat_minor": 5
}
